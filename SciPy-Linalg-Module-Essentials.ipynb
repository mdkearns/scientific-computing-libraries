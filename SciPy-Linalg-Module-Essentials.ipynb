{
 "cells": [
  {
   "cell_type": "markdown",
   "metadata": {},
   "source": [
    "# A SciPy Module for Linear Algebra: scipy.linalg \n",
    "\n",
    "Notebook Author: Matthew Kearns"
   ]
  },
  {
   "cell_type": "markdown",
   "metadata": {},
   "source": [
    "### The reference material for this notebook can be found in the SciPy.org linear algebra module (scipy.linalg) tutorial: https://docs.scipy.org/doc/scipy/reference/tutorial/linalg.html"
   ]
  },
  {
   "cell_type": "markdown",
   "metadata": {},
   "source": [
    "Notebook Contents:\n",
    "\n",
    "    - Basics\n",
    "        - Finding inverses\n",
    "        - Generalized inverses\n",
    "        - Finding determinants\n",
    "        - Computing norms\n",
    "        - Solving linear systems\n",
    "        \n",
    "    - Decompositions\n",
    "        - Eigenvalues and eigenvectors\n",
    "        - Singular value decompositions\n",
    "        - Extras\n",
    "        \n",
    "    - Matrix functions\n",
    "        - Exponential and logarithm functions\n",
    "        - Trigonometric functions\n",
    "        - Hyperbolic trigonometric functions\n",
    "        - Arbitrary functions\n",
    "        \n",
    "    - Special matrices\n",
    "        - Extras\n",
    "    "
   ]
  },
  {
   "cell_type": "markdown",
   "metadata": {},
   "source": [
    "### Basics"
   ]
  },
  {
   "cell_type": "markdown",
   "metadata": {},
   "source": [
    "###### Finding inverses"
   ]
  },
  {
   "cell_type": "code",
   "execution_count": 1,
   "metadata": {},
   "outputs": [],
   "source": [
    "import numpy as np\n",
    "from scipy import linalg"
   ]
  },
  {
   "cell_type": "code",
   "execution_count": 5,
   "metadata": {},
   "outputs": [
    {
     "data": {
      "text/plain": [
       "array([[ 0,  1,  4],\n",
       "       [ 9, 16, 25],\n",
       "       [36, 49, 64]])"
      ]
     },
     "execution_count": 5,
     "metadata": {},
     "output_type": "execute_result"
    }
   ],
   "source": [
    "# The inverse of matrix A is a matrix B s.t. AB = I\n",
    "A = np.array([x**2 for x in range(9)]).reshape(3, 3)\n",
    "A"
   ]
  },
  {
   "cell_type": "code",
   "execution_count": 6,
   "metadata": {},
   "outputs": [
    {
     "data": {
      "text/plain": [
       "array([[ 0.93055556, -0.61111111,  0.18055556],\n",
       "       [-1.5       ,  0.66666667, -0.16666667],\n",
       "       [ 0.625     , -0.16666667,  0.04166667]])"
      ]
     },
     "execution_count": 6,
     "metadata": {},
     "output_type": "execute_result"
    }
   ],
   "source": [
    "B = linalg.inv(A)\n",
    "B"
   ]
  },
  {
   "cell_type": "code",
   "execution_count": 8,
   "metadata": {},
   "outputs": [
    {
     "data": {
      "text/plain": [
       "array([[ 1.00000000e+00,  1.11022302e-16, -2.77555756e-17],\n",
       "       [ 0.00000000e+00,  1.00000000e+00, -6.66133815e-16],\n",
       "       [ 0.00000000e+00,  8.88178420e-15,  1.00000000e+00]])"
      ]
     },
     "execution_count": 8,
     "metadata": {},
     "output_type": "execute_result"
    }
   ],
   "source": [
    "# check result\n",
    "I = A.dot(B)\n",
    "I"
   ]
  },
  {
   "cell_type": "markdown",
   "metadata": {},
   "source": [
    "###### Generalized inverses"
   ]
  },
  {
   "cell_type": "code",
   "execution_count": 18,
   "metadata": {},
   "outputs": [],
   "source": [
    "# we can calculate generalized inverses using linalg.pinv or pinv2"
   ]
  },
  {
   "cell_type": "markdown",
   "metadata": {},
   "source": [
    "###### Finding determinants"
   ]
  },
  {
   "cell_type": "code",
   "execution_count": 10,
   "metadata": {},
   "outputs": [
    {
     "data": {
      "text/plain": [
       "51.0"
      ]
     },
     "execution_count": 10,
     "metadata": {},
     "output_type": "execute_result"
    }
   ],
   "source": [
    "# det(A)\n",
    "A = np.array([[2, 3, 7], [4, 1, 6], [1, 5, 4]]).reshape(3, 3)\n",
    "det_A = linalg.det(A)\n",
    "det_A"
   ]
  },
  {
   "cell_type": "markdown",
   "metadata": {},
   "source": [
    "###### Computing norms"
   ]
  },
  {
   "cell_type": "code",
   "execution_count": 17,
   "metadata": {},
   "outputs": [
    {
     "name": "stdout",
     "output_type": "stream",
     "text": [
      "L1 Norm: 6.0 (max column sum)\n",
      "L2 Norm: 5.477225575051661\n",
      "Inf Norm: 7.0 (max row sum)\n"
     ]
    }
   ],
   "source": [
    "# L1, frobenius, and inf norms\n",
    "A = np.array([1, 2, 3, 4]).reshape(2, 2)\n",
    "L1 = linalg.norm(A, 1)\n",
    "L2 = linalg.norm(A) # frobenius norm\n",
    "inf = linalg.norm(A, np.inf)\n",
    "\n",
    "print('L1 Norm:', L1, '(max column sum)')\n",
    "print('L2 Norm:', L2)\n",
    "print('Inf Norm:', inf, '(max row sum)')"
   ]
  },
  {
   "cell_type": "markdown",
   "metadata": {},
   "source": [
    "###### Solving linear systems"
   ]
  },
  {
   "cell_type": "code",
   "execution_count": 9,
   "metadata": {},
   "outputs": [
    {
     "data": {
      "text/plain": [
       "array([1.01204819, 0.09036145, 0.17771084])"
      ]
     },
     "execution_count": 9,
     "metadata": {},
     "output_type": "execute_result"
    }
   ],
   "source": [
    "# solve the system Ax = b\n",
    "A = np.array([[1, 7, 2], [3, 6, 8], [9, 2, 4]]).reshape(3, 3)\n",
    "b = np.array([2, 5, 10])\n",
    "x = linalg.solve(A, b)\n",
    "x"
   ]
  },
  {
   "cell_type": "markdown",
   "metadata": {},
   "source": [
    "### Decompositions"
   ]
  },
  {
   "cell_type": "markdown",
   "metadata": {},
   "source": [
    "###### Eigenvalues and eigenvectors"
   ]
  },
  {
   "cell_type": "code",
   "execution_count": 19,
   "metadata": {},
   "outputs": [
    {
     "data": {
      "text/plain": [
       "array([[2, 4, 1],\n",
       "       [5, 4, 2],\n",
       "       [1, 6, 2]])"
      ]
     },
     "execution_count": 19,
     "metadata": {},
     "output_type": "execute_result"
    }
   ],
   "source": [
    "A = np.array([[2, 4, 1], [5, 4, 2], [1, 6, 2]])\n",
    "A"
   ]
  },
  {
   "cell_type": "code",
   "execution_count": 23,
   "metadata": {},
   "outputs": [],
   "source": [
    "# finding the m (not necessarily unique) eigenvalues for an\n",
    "# m x m matrix\n",
    "eig_vals, eig_vects = linalg.eig(A)"
   ]
  },
  {
   "cell_type": "code",
   "execution_count": 24,
   "metadata": {},
   "outputs": [
    {
     "data": {
      "text/plain": [
       "array([ 9.24264069+0.j, -2.        +0.j,  0.75735931+0.j])"
      ]
     },
     "execution_count": 24,
     "metadata": {},
     "output_type": "execute_result"
    }
   ],
   "source": [
    "eig_vals"
   ]
  },
  {
   "cell_type": "code",
   "execution_count": 25,
   "metadata": {},
   "outputs": [
    {
     "data": {
      "text/plain": [
       "array([[ 0.44692133,  0.37139068, -0.28228981],\n",
       "       [ 0.65760207, -0.55708601, -0.14921712],\n",
       "       [ 0.60648235,  0.74278135,  0.94765327]])"
      ]
     },
     "execution_count": 25,
     "metadata": {},
     "output_type": "execute_result"
    }
   ],
   "source": [
    "eig_vects"
   ]
  },
  {
   "cell_type": "markdown",
   "metadata": {},
   "source": [
    "###### Singular value decompositions"
   ]
  },
  {
   "cell_type": "code",
   "execution_count": 27,
   "metadata": {},
   "outputs": [
    {
     "data": {
      "text/plain": [
       "array([[1, 4, 8],\n",
       "       [6, 2, 3]])"
      ]
     },
     "execution_count": 27,
     "metadata": {},
     "output_type": "execute_result"
    }
   ],
   "source": [
    "# SVD is an extension of the eigenvalue/eigenvector problem\n",
    "# extended to non-square matrices\n",
    "A = np.array([[1, 4, 8], [6, 2, 3]])\n",
    "A"
   ]
  },
  {
   "cell_type": "code",
   "execution_count": 28,
   "metadata": {},
   "outputs": [],
   "source": [
    "M, N = A.shape # rows x cols"
   ]
  },
  {
   "cell_type": "code",
   "execution_count": 30,
   "metadata": {},
   "outputs": [],
   "source": [
    "U, sigma, V_h = linalg.svd(A)\n",
    "Sig = linalg.diagsvd(sigma, M, N)"
   ]
  },
  {
   "cell_type": "code",
   "execution_count": 34,
   "metadata": {},
   "outputs": [
    {
     "name": "stdout",
     "output_type": "stream",
     "text": [
      "U:\n",
      " [[-0.83308373 -0.55314691]\n",
      " [-0.55314691  0.83308373]]\n",
      "\n",
      "V^H:\n",
      " [[-0.4028357  -0.43064863 -0.80762934]\n",
      " [ 0.91180413 -0.11207836 -0.39503376]\n",
      " [ 0.07960298 -0.89553347  0.43781636]]\n",
      "\n",
      "Sigma:\n",
      " [[10.30684512  0.          0.        ]\n",
      " [ 0.          4.87534037  0.        ]]\n",
      "\n"
     ]
    }
   ],
   "source": [
    "print('U:\\n', U, end='\\n\\n')\n",
    "print('V^H:\\n', V_h, end='\\n\\n')\n",
    "print('Sigma:\\n', Sig, end='\\n\\n')"
   ]
  },
  {
   "cell_type": "code",
   "execution_count": 35,
   "metadata": {},
   "outputs": [
    {
     "data": {
      "text/plain": [
       "array([[1., 4., 8.],\n",
       "       [6., 2., 3.]])"
      ]
     },
     "execution_count": 35,
     "metadata": {},
     "output_type": "execute_result"
    }
   ],
   "source": [
    "# Checking results of computation\n",
    "U.dot(Sig.dot(V_h))"
   ]
  },
  {
   "cell_type": "markdown",
   "metadata": {},
   "source": [
    "###### Extras"
   ]
  },
  {
   "cell_type": "code",
   "execution_count": null,
   "metadata": {},
   "outputs": [],
   "source": []
  },
  {
   "cell_type": "markdown",
   "metadata": {},
   "source": [
    "### Matrix functions"
   ]
  },
  {
   "cell_type": "markdown",
   "metadata": {},
   "source": [
    "###### Exponential and logarithm functions"
   ]
  },
  {
   "cell_type": "code",
   "execution_count": null,
   "metadata": {},
   "outputs": [],
   "source": []
  },
  {
   "cell_type": "markdown",
   "metadata": {},
   "source": [
    "###### Trigonometric functions"
   ]
  },
  {
   "cell_type": "code",
   "execution_count": null,
   "metadata": {},
   "outputs": [],
   "source": []
  },
  {
   "cell_type": "markdown",
   "metadata": {},
   "source": [
    "###### Hyperbolic trigonometric functions"
   ]
  },
  {
   "cell_type": "code",
   "execution_count": null,
   "metadata": {},
   "outputs": [],
   "source": []
  },
  {
   "cell_type": "markdown",
   "metadata": {},
   "source": [
    "###### Arbitrary functions"
   ]
  },
  {
   "cell_type": "code",
   "execution_count": null,
   "metadata": {},
   "outputs": [],
   "source": []
  },
  {
   "cell_type": "markdown",
   "metadata": {},
   "source": [
    "### Special matrices"
   ]
  },
  {
   "cell_type": "markdown",
   "metadata": {},
   "source": [
    "###### Extras"
   ]
  },
  {
   "cell_type": "code",
   "execution_count": null,
   "metadata": {},
   "outputs": [],
   "source": []
  }
 ],
 "metadata": {
  "kernelspec": {
   "display_name": "Python 3",
   "language": "python",
   "name": "python3"
  },
  "language_info": {
   "codemirror_mode": {
    "name": "ipython",
    "version": 3
   },
   "file_extension": ".py",
   "mimetype": "text/x-python",
   "name": "python",
   "nbconvert_exporter": "python",
   "pygments_lexer": "ipython3",
   "version": "3.6.2"
  }
 },
 "nbformat": 4,
 "nbformat_minor": 2
}
