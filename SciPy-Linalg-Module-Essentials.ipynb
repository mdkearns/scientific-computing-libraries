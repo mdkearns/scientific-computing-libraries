{
 "cells": [
  {
   "cell_type": "markdown",
   "metadata": {},
   "source": [
    "# A SciPy Module for Linear Algebra: scipy.linalg \n",
    "\n",
    "Notebook Author: Matthew Kearns"
   ]
  },
  {
   "cell_type": "markdown",
   "metadata": {},
   "source": [
    "### The reference material for this notebook can be found in the SciPy.org linear algebra module (scipy.linalg) tutorial: https://docs.scipy.org/doc/scipy/reference/tutorial/linalg.html"
   ]
  },
  {
   "cell_type": "markdown",
   "metadata": {},
   "source": [
    "Notebook Contents:\n",
    "\n",
    "    - Basics\n",
    "        - Finding inverses\n",
    "        - Generalized inverses\n",
    "        - Finding determinants\n",
    "        - Computing norms\n",
    "        - Solving linear systems\n",
    "        \n",
    "    - Decompositions\n",
    "        - Eigenvalues and eigenvectors\n",
    "        - Singular value decompositions\n",
    "        \n",
    "    - Matrix functions\n",
    "        - Exponential and logarithm functions\n",
    "        - Trigonometric functions\n",
    "        - Hyperbolic trigonometric functions\n",
    "    "
   ]
  },
  {
   "cell_type": "markdown",
   "metadata": {},
   "source": [
    "### Basics"
   ]
  },
  {
   "cell_type": "markdown",
   "metadata": {},
   "source": [
    "###### Finding inverses"
   ]
  },
  {
   "cell_type": "code",
   "execution_count": 1,
   "metadata": {},
   "outputs": [],
   "source": [
    "import numpy as np\n",
    "from scipy import linalg"
   ]
  },
  {
   "cell_type": "code",
   "execution_count": 5,
   "metadata": {},
   "outputs": [
    {
     "data": {
      "text/plain": [
       "array([[ 0,  1,  4],\n",
       "       [ 9, 16, 25],\n",
       "       [36, 49, 64]])"
      ]
     },
     "execution_count": 5,
     "metadata": {},
     "output_type": "execute_result"
    }
   ],
   "source": [
    "# The inverse of matrix A is a matrix B s.t. AB = I\n",
    "A = np.array([x**2 for x in range(9)]).reshape(3, 3)\n",
    "A"
   ]
  },
  {
   "cell_type": "code",
   "execution_count": 6,
   "metadata": {},
   "outputs": [
    {
     "data": {
      "text/plain": [
       "array([[ 0.93055556, -0.61111111,  0.18055556],\n",
       "       [-1.5       ,  0.66666667, -0.16666667],\n",
       "       [ 0.625     , -0.16666667,  0.04166667]])"
      ]
     },
     "execution_count": 6,
     "metadata": {},
     "output_type": "execute_result"
    }
   ],
   "source": [
    "B = linalg.inv(A)\n",
    "B"
   ]
  },
  {
   "cell_type": "code",
   "execution_count": 8,
   "metadata": {},
   "outputs": [
    {
     "data": {
      "text/plain": [
       "array([[ 1.00000000e+00,  1.11022302e-16, -2.77555756e-17],\n",
       "       [ 0.00000000e+00,  1.00000000e+00, -6.66133815e-16],\n",
       "       [ 0.00000000e+00,  8.88178420e-15,  1.00000000e+00]])"
      ]
     },
     "execution_count": 8,
     "metadata": {},
     "output_type": "execute_result"
    }
   ],
   "source": [
    "# check result\n",
    "I = A.dot(B)\n",
    "I"
   ]
  },
  {
   "cell_type": "markdown",
   "metadata": {},
   "source": [
    "###### Generalized inverses"
   ]
  },
  {
   "cell_type": "code",
   "execution_count": 18,
   "metadata": {},
   "outputs": [],
   "source": [
    "# we can calculate generalized inverses using linalg.pinv or pinv2"
   ]
  },
  {
   "cell_type": "markdown",
   "metadata": {},
   "source": [
    "###### Finding determinants"
   ]
  },
  {
   "cell_type": "code",
   "execution_count": 10,
   "metadata": {},
   "outputs": [
    {
     "data": {
      "text/plain": [
       "51.0"
      ]
     },
     "execution_count": 10,
     "metadata": {},
     "output_type": "execute_result"
    }
   ],
   "source": [
    "# det(A)\n",
    "A = np.array([[2, 3, 7], [4, 1, 6], [1, 5, 4]]).reshape(3, 3)\n",
    "det_A = linalg.det(A)\n",
    "det_A"
   ]
  },
  {
   "cell_type": "markdown",
   "metadata": {},
   "source": [
    "###### Computing norms"
   ]
  },
  {
   "cell_type": "code",
   "execution_count": 17,
   "metadata": {},
   "outputs": [
    {
     "name": "stdout",
     "output_type": "stream",
     "text": [
      "L1 Norm: 6.0 (max column sum)\n",
      "L2 Norm: 5.477225575051661\n",
      "Inf Norm: 7.0 (max row sum)\n"
     ]
    }
   ],
   "source": [
    "# L1, frobenius, and inf norms\n",
    "A = np.array([1, 2, 3, 4]).reshape(2, 2)\n",
    "L1 = linalg.norm(A, 1)\n",
    "L2 = linalg.norm(A) # frobenius norm\n",
    "inf = linalg.norm(A, np.inf)\n",
    "\n",
    "print('L1 Norm:', L1, '(max column sum)')\n",
    "print('L2 Norm:', L2)\n",
    "print('Inf Norm:', inf, '(max row sum)')"
   ]
  },
  {
   "cell_type": "markdown",
   "metadata": {},
   "source": [
    "###### Solving linear systems"
   ]
  },
  {
   "cell_type": "code",
   "execution_count": 9,
   "metadata": {},
   "outputs": [
    {
     "data": {
      "text/plain": [
       "array([1.01204819, 0.09036145, 0.17771084])"
      ]
     },
     "execution_count": 9,
     "metadata": {},
     "output_type": "execute_result"
    }
   ],
   "source": [
    "# solve the system Ax = b\n",
    "A = np.array([[1, 7, 2], [3, 6, 8], [9, 2, 4]]).reshape(3, 3)\n",
    "b = np.array([2, 5, 10])\n",
    "x = linalg.solve(A, b)\n",
    "x"
   ]
  },
  {
   "cell_type": "markdown",
   "metadata": {},
   "source": [
    "### Decompositions"
   ]
  },
  {
   "cell_type": "markdown",
   "metadata": {},
   "source": [
    "###### Eigenvalues and eigenvectors"
   ]
  },
  {
   "cell_type": "code",
   "execution_count": 19,
   "metadata": {},
   "outputs": [
    {
     "data": {
      "text/plain": [
       "array([[2, 4, 1],\n",
       "       [5, 4, 2],\n",
       "       [1, 6, 2]])"
      ]
     },
     "execution_count": 19,
     "metadata": {},
     "output_type": "execute_result"
    }
   ],
   "source": [
    "A = np.array([[2, 4, 1], [5, 4, 2], [1, 6, 2]])\n",
    "A"
   ]
  },
  {
   "cell_type": "code",
   "execution_count": 23,
   "metadata": {},
   "outputs": [],
   "source": [
    "# finding the m (not necessarily unique) eigenvalues for an\n",
    "# m x m matrix\n",
    "eig_vals, eig_vects = linalg.eig(A)"
   ]
  },
  {
   "cell_type": "code",
   "execution_count": 24,
   "metadata": {},
   "outputs": [
    {
     "data": {
      "text/plain": [
       "array([ 9.24264069+0.j, -2.        +0.j,  0.75735931+0.j])"
      ]
     },
     "execution_count": 24,
     "metadata": {},
     "output_type": "execute_result"
    }
   ],
   "source": [
    "eig_vals"
   ]
  },
  {
   "cell_type": "code",
   "execution_count": 25,
   "metadata": {},
   "outputs": [
    {
     "data": {
      "text/plain": [
       "array([[ 0.44692133,  0.37139068, -0.28228981],\n",
       "       [ 0.65760207, -0.55708601, -0.14921712],\n",
       "       [ 0.60648235,  0.74278135,  0.94765327]])"
      ]
     },
     "execution_count": 25,
     "metadata": {},
     "output_type": "execute_result"
    }
   ],
   "source": [
    "eig_vects"
   ]
  },
  {
   "cell_type": "markdown",
   "metadata": {},
   "source": [
    "###### Singular value decompositions"
   ]
  },
  {
   "cell_type": "code",
   "execution_count": 27,
   "metadata": {},
   "outputs": [
    {
     "data": {
      "text/plain": [
       "array([[1, 4, 8],\n",
       "       [6, 2, 3]])"
      ]
     },
     "execution_count": 27,
     "metadata": {},
     "output_type": "execute_result"
    }
   ],
   "source": [
    "# SVD is an extension of the eigenvalue/eigenvector problem\n",
    "# extended to non-square matrices\n",
    "A = np.array([[1, 4, 8], [6, 2, 3]])\n",
    "A"
   ]
  },
  {
   "cell_type": "code",
   "execution_count": 28,
   "metadata": {},
   "outputs": [],
   "source": [
    "M, N = A.shape # rows x cols"
   ]
  },
  {
   "cell_type": "code",
   "execution_count": 30,
   "metadata": {},
   "outputs": [],
   "source": [
    "U, sigma, V_h = linalg.svd(A)\n",
    "Sig = linalg.diagsvd(sigma, M, N)"
   ]
  },
  {
   "cell_type": "code",
   "execution_count": 34,
   "metadata": {},
   "outputs": [
    {
     "name": "stdout",
     "output_type": "stream",
     "text": [
      "U:\n",
      " [[-0.83308373 -0.55314691]\n",
      " [-0.55314691  0.83308373]]\n",
      "\n",
      "V^H:\n",
      " [[-0.4028357  -0.43064863 -0.80762934]\n",
      " [ 0.91180413 -0.11207836 -0.39503376]\n",
      " [ 0.07960298 -0.89553347  0.43781636]]\n",
      "\n",
      "Sigma:\n",
      " [[10.30684512  0.          0.        ]\n",
      " [ 0.          4.87534037  0.        ]]\n",
      "\n"
     ]
    }
   ],
   "source": [
    "print('U:\\n', U, end='\\n\\n')\n",
    "print('V^H:\\n', V_h, end='\\n\\n')\n",
    "print('Sigma:\\n', Sig, end='\\n\\n')"
   ]
  },
  {
   "cell_type": "code",
   "execution_count": 39,
   "metadata": {},
   "outputs": [
    {
     "data": {
      "text/plain": [
       "array([[1., 4., 8.],\n",
       "       [6., 2., 3.]])"
      ]
     },
     "execution_count": 39,
     "metadata": {},
     "output_type": "execute_result"
    }
   ],
   "source": [
    "# Checking results of computation\n",
    "U.dot(Sig.dot(V_h))"
   ]
  },
  {
   "cell_type": "markdown",
   "metadata": {},
   "source": [
    "### Matrix functions"
   ]
  },
  {
   "cell_type": "markdown",
   "metadata": {},
   "source": [
    "###### Exponential and logarithm functions"
   ]
  },
  {
   "cell_type": "code",
   "execution_count": 42,
   "metadata": {},
   "outputs": [
    {
     "data": {
      "text/plain": [
       "array([[1, 2, 3],\n",
       "       [4, 5, 6],\n",
       "       [7, 8, 9]])"
      ]
     },
     "execution_count": 42,
     "metadata": {},
     "output_type": "execute_result"
    }
   ],
   "source": [
    "A = np.array([x+1 for x in range(9)]).reshape(3, 3)\n",
    "A"
   ]
  },
  {
   "cell_type": "code",
   "execution_count": 43,
   "metadata": {},
   "outputs": [
    {
     "data": {
      "text/plain": [
       "array([[1118906.69941319, 1374815.06293582, 1630724.42645844],\n",
       "       [2533881.04189899, 3113415.03138058, 3692947.02086216],\n",
       "       [3948856.38438479, 4852012.99982534, 5755170.61526589]])"
      ]
     },
     "execution_count": 43,
     "metadata": {},
     "output_type": "execute_result"
    }
   ],
   "source": [
    "# the matrix exponential\n",
    "exp_A = linalg.expm(A)\n",
    "exp_A"
   ]
  },
  {
   "cell_type": "code",
   "execution_count": 44,
   "metadata": {},
   "outputs": [
    {
     "data": {
      "text/plain": [
       "array([[ -5.32112526+2.78963761j,  11.82881173-0.43245193j,\n",
       "         -5.29483839-0.51294882j],\n",
       "       [ 12.13859546-0.79703932j, -21.98009977+2.16225964j,\n",
       "         12.4483792 -1.16162671j],\n",
       "       [ -4.67527092-1.2421236j ,  12.75816293-1.5262141j ,\n",
       "         -4.08199032+1.33128805j]])"
      ]
     },
     "execution_count": 44,
     "metadata": {},
     "output_type": "execute_result"
    }
   ],
   "source": [
    "# the matrix logarithm\n",
    "log_A = linalg.logm(A)\n",
    "log_A"
   ]
  },
  {
   "cell_type": "markdown",
   "metadata": {},
   "source": [
    "###### Trigonometric functions"
   ]
  },
  {
   "cell_type": "code",
   "execution_count": 48,
   "metadata": {},
   "outputs": [
    {
     "name": "stdout",
     "output_type": "stream",
     "text": [
      "\n",
      "sin(A):\n",
      " [[-0.69279119 -0.23059008  0.23161103]\n",
      " [-0.17243208 -0.14335308 -0.11427409]\n",
      " [ 0.34792703 -0.05611609 -0.4601592 ]]\n",
      "\n",
      "cos(A):\n",
      " [[ 0.38017733 -0.37383015 -0.12783762]\n",
      " [-0.53120649  0.39010533 -0.68858284]\n",
      " [-0.44259032 -0.84595919 -0.24932806]]\n",
      "\n",
      "tan(A):\n",
      " [[-1.42972068 -0.3413874   0.74694587]\n",
      " [-0.05326132  0.09080172  0.23486477]\n",
      " [ 1.32319804  0.52299085 -0.27721634]]\n"
     ]
    }
   ],
   "source": [
    "# trigonometric functions on matrices\n",
    "sin_A = linalg.sinm(A)\n",
    "cos_A = linalg.cosm(A)\n",
    "tan_A = linalg.tanm(A)\n",
    "\n",
    "print('\\nsin(A):\\n', sin_A)\n",
    "print('\\ncos(A):\\n', cos_A)\n",
    "print('\\ntan(A):\\n', tan_A)"
   ]
  },
  {
   "cell_type": "markdown",
   "metadata": {},
   "source": [
    "###### Hyperbolic trigonometric functions"
   ]
  },
  {
   "cell_type": "code",
   "execution_count": 49,
   "metadata": {},
   "outputs": [
    {
     "name": "stdout",
     "output_type": "stream",
     "text": [
      "\n",
      "sinh(A):\n",
      " [[ 559452.16451266  687407.39921472  815362.63391679]\n",
      " [1266940.5659768  1556707.14935783 1846473.73273887]\n",
      " [1974428.96744093 2426006.89950094 2877584.83156095]]\n",
      "\n",
      "cosh(A):\n",
      " [[ 559454.53490054  687407.66372109  815361.79254165]\n",
      " [1266940.4759222  1556707.88202275 1846473.2881233 ]\n",
      " [1974427.41694386 2426006.1003244  2877585.78370494]]\n",
      "\n",
      "tanh(A):\n",
      " [[-0.46967692 -0.02015569  0.42936554]\n",
      " [ 0.18948816  0.29431009  0.39913201]\n",
      " [ 0.84865324  0.60877586  0.36889848]]\n"
     ]
    }
   ],
   "source": [
    "# additionally, we can define the hyperbolic trig functions for matrices\n",
    "sinh_A = linalg.sinhm(A)\n",
    "cosh_A = linalg.coshm(A)\n",
    "tanh_A = linalg.tanhm(A)\n",
    "\n",
    "print('\\nsinh(A):\\n', sinh_A)\n",
    "print('\\ncosh(A):\\n', cosh_A)\n",
    "print('\\ntanh(A):\\n', tanh_A)"
   ]
  }
 ],
 "metadata": {
  "kernelspec": {
   "display_name": "Python 3",
   "language": "python",
   "name": "python3"
  },
  "language_info": {
   "codemirror_mode": {
    "name": "ipython",
    "version": 3
   },
   "file_extension": ".py",
   "mimetype": "text/x-python",
   "name": "python",
   "nbconvert_exporter": "python",
   "pygments_lexer": "ipython3",
   "version": "3.6.2"
  }
 },
 "nbformat": 4,
 "nbformat_minor": 2
}
