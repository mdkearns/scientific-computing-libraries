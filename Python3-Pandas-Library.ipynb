{
 "cells": [
  {
   "cell_type": "markdown",
   "metadata": {},
   "source": [
    "# Pandas: A Python Library for Data Analysis\n",
    "\n",
    "Notebook Author: Matthew Kearns"
   ]
  },
  {
   "cell_type": "markdown",
   "metadata": {},
   "source": [
    "### The reference material for this notebook can be found in the pandas.pydata.org tutorial: http://pandas.pydata.org/pandas-docs/stable/10min.html"
   ]
  },
  {
   "cell_type": "markdown",
   "metadata": {},
   "source": [
    "Notebook Contents:\n",
    "\n",
    "    - Object creation\n",
    "    - Viewing data\n",
    "    - Selection\n",
    "        - Getting\n",
    "        - Selection by label\n",
    "        - Selection by position\n",
    "        - Boolean indexing\n",
    "        - Setting\n",
    "    - Missing data\n",
    "    - Operations\n",
    "        - Stats\n",
    "        - Apply\n",
    "        - Histogramming\n",
    "        - String methods\n",
    "    - Merge\n",
    "        - Concat\n",
    "        - Join\n",
    "        - Append\n",
    "    - Grouping\n",
    "    - Reshaping\n",
    "        - Stack\n",
    "        - Pivot tables\n",
    "    - Time series\n",
    "    - Categoricals\n",
    "    - Plotting\n",
    "    - Getting data in/out\n",
    "        - CSV\n",
    "        - HDF5\n",
    "        - Excel\n",
    "    - Gotchas\n"
   ]
  },
  {
   "cell_type": "code",
   "execution_count": 1,
   "metadata": {},
   "outputs": [],
   "source": [
    "import pandas as pd\n",
    "import numpy as np\n",
    "import matplotlib.pyplot as plt"
   ]
  },
  {
   "cell_type": "markdown",
   "metadata": {},
   "source": [
    "### Object creation"
   ]
  },
  {
   "cell_type": "code",
   "execution_count": 2,
   "metadata": {},
   "outputs": [
    {
     "data": {
      "text/plain": [
       "0      1\n",
       "1      4\n",
       "2      9\n",
       "3     16\n",
       "4     25\n",
       "5     36\n",
       "6     49\n",
       "7     64\n",
       "8     81\n",
       "9    100\n",
       "dtype: int64"
      ]
     },
     "execution_count": 2,
     "metadata": {},
     "output_type": "execute_result"
    }
   ],
   "source": [
    "# creating a Series by passing a list of values\n",
    "squares = pd.Series([(x+1)**2 for x in range(10)])\n",
    "squares"
   ]
  },
  {
   "cell_type": "code",
   "execution_count": 3,
   "metadata": {},
   "outputs": [],
   "source": [
    "# creating a data frame by passing a NumPy array and datetime index\n",
    "dates = pd.date_range('20180101', periods=365)"
   ]
  },
  {
   "cell_type": "code",
   "execution_count": 4,
   "metadata": {},
   "outputs": [
    {
     "data": {
      "text/plain": [
       "DatetimeIndex(['2018-01-01', '2018-01-02', '2018-01-03', '2018-01-04',\n",
       "               '2018-01-05', '2018-01-06', '2018-01-07', '2018-01-08',\n",
       "               '2018-01-09', '2018-01-10',\n",
       "               ...\n",
       "               '2018-12-22', '2018-12-23', '2018-12-24', '2018-12-25',\n",
       "               '2018-12-26', '2018-12-27', '2018-12-28', '2018-12-29',\n",
       "               '2018-12-30', '2018-12-31'],\n",
       "              dtype='datetime64[ns]', length=365, freq='D')"
      ]
     },
     "execution_count": 4,
     "metadata": {},
     "output_type": "execute_result"
    }
   ],
   "source": [
    "dates"
   ]
  },
  {
   "cell_type": "code",
   "execution_count": 5,
   "metadata": {},
   "outputs": [],
   "source": [
    "df = pd.DataFrame(np.random.randn(365, 5), index=dates, columns=list('ABCDE'))"
   ]
  },
  {
   "cell_type": "code",
   "execution_count": 7,
   "metadata": {},
   "outputs": [
    {
     "data": {
      "text/html": [
       "<div>\n",
       "<style scoped>\n",
       "    .dataframe tbody tr th:only-of-type {\n",
       "        vertical-align: middle;\n",
       "    }\n",
       "\n",
       "    .dataframe tbody tr th {\n",
       "        vertical-align: top;\n",
       "    }\n",
       "\n",
       "    .dataframe thead th {\n",
       "        text-align: right;\n",
       "    }\n",
       "</style>\n",
       "<table border=\"1\" class=\"dataframe\">\n",
       "  <thead>\n",
       "    <tr style=\"text-align: right;\">\n",
       "      <th></th>\n",
       "      <th>A</th>\n",
       "      <th>B</th>\n",
       "      <th>C</th>\n",
       "      <th>D</th>\n",
       "      <th>E</th>\n",
       "    </tr>\n",
       "  </thead>\n",
       "  <tbody>\n",
       "    <tr>\n",
       "      <th>2018-01-01</th>\n",
       "      <td>1.904261</td>\n",
       "      <td>0.668598</td>\n",
       "      <td>0.633009</td>\n",
       "      <td>0.804681</td>\n",
       "      <td>0.010530</td>\n",
       "    </tr>\n",
       "    <tr>\n",
       "      <th>2018-01-02</th>\n",
       "      <td>-0.136654</td>\n",
       "      <td>-0.405667</td>\n",
       "      <td>0.660185</td>\n",
       "      <td>-0.536618</td>\n",
       "      <td>-0.173108</td>\n",
       "    </tr>\n",
       "    <tr>\n",
       "      <th>2018-01-03</th>\n",
       "      <td>1.172189</td>\n",
       "      <td>0.819352</td>\n",
       "      <td>0.010252</td>\n",
       "      <td>0.973735</td>\n",
       "      <td>1.618968</td>\n",
       "    </tr>\n",
       "    <tr>\n",
       "      <th>2018-01-04</th>\n",
       "      <td>-0.290405</td>\n",
       "      <td>-0.484918</td>\n",
       "      <td>0.887774</td>\n",
       "      <td>0.685885</td>\n",
       "      <td>-0.046122</td>\n",
       "    </tr>\n",
       "    <tr>\n",
       "      <th>2018-01-05</th>\n",
       "      <td>0.591977</td>\n",
       "      <td>-0.935458</td>\n",
       "      <td>-0.772485</td>\n",
       "      <td>0.420939</td>\n",
       "      <td>1.194874</td>\n",
       "    </tr>\n",
       "  </tbody>\n",
       "</table>\n",
       "</div>"
      ],
      "text/plain": [
       "                   A         B         C         D         E\n",
       "2018-01-01  1.904261  0.668598  0.633009  0.804681  0.010530\n",
       "2018-01-02 -0.136654 -0.405667  0.660185 -0.536618 -0.173108\n",
       "2018-01-03  1.172189  0.819352  0.010252  0.973735  1.618968\n",
       "2018-01-04 -0.290405 -0.484918  0.887774  0.685885 -0.046122\n",
       "2018-01-05  0.591977 -0.935458 -0.772485  0.420939  1.194874"
      ]
     },
     "execution_count": 7,
     "metadata": {},
     "output_type": "execute_result"
    }
   ],
   "source": [
    "df.head()"
   ]
  },
  {
   "cell_type": "code",
   "execution_count": 8,
   "metadata": {},
   "outputs": [
    {
     "data": {
      "text/plain": [
       "A    datetime64[ns]\n",
       "B             int32\n",
       "C          category\n",
       "D            object\n",
       "dtype: object"
      ]
     },
     "execution_count": 8,
     "metadata": {},
     "output_type": "execute_result"
    }
   ],
   "source": [
    "# creating a data frame with heterogeneous columns\n",
    "df = pd.DataFrame({'A': pd.Timestamp('20180607'),\n",
    "                   'B': np.array([1, 2, 3]), \n",
    "                   'C': pd.Categorical(['Monday', 'Tuesday', 'Wednesday']), \n",
    "                   'D': 'foo'})\n",
    "df.dtypes"
   ]
  },
  {
   "cell_type": "markdown",
   "metadata": {},
   "source": [
    "### Viewing data"
   ]
  },
  {
   "cell_type": "code",
   "execution_count": 17,
   "metadata": {},
   "outputs": [
    {
     "name": "stdout",
     "output_type": "stream",
     "text": [
      "\n",
      "df.head():\n",
      "                    A         B         C         D         E\n",
      "2018-01-01  0.147916 -0.037493  0.060506 -0.381192 -1.888366\n",
      "2018-01-02 -0.134965  0.029424 -0.954688  0.082766  0.693828\n",
      "2018-01-03 -1.394146 -0.596004  1.962957 -0.149231 -0.046938\n",
      "2018-01-04  0.815478  0.178928  0.018747  0.767455 -1.076740\n",
      "2018-01-05 -0.398978  1.463726 -0.995175  0.165350 -2.179177\n",
      "\n",
      "df.tail():\n",
      "                    A         B         C         D         E\n",
      "2018-01-03 -1.394146 -0.596004  1.962957 -0.149231 -0.046938\n",
      "2018-01-04  0.815478  0.178928  0.018747  0.767455 -1.076740\n",
      "2018-01-05 -0.398978  1.463726 -0.995175  0.165350 -2.179177\n",
      "2018-01-06 -1.188608  0.401013  0.086184  1.060617 -1.700875\n",
      "2018-01-07 -2.278527 -0.413172  0.803698  1.847506 -0.627094\n"
     ]
    }
   ],
   "source": [
    "# viewing the top and bottom rows of a data frame\n",
    "dates = pd.date_range('20180101', periods=7)\n",
    "\n",
    "df = pd.DataFrame(np.random.randn(7, 5), index=dates, columns=list('ABCDE'))\n",
    "\n",
    "print('\\ndf.head():\\n', df.head())\n",
    "print('\\ndf.tail():\\n', df.tail())"
   ]
  },
  {
   "cell_type": "code",
   "execution_count": 18,
   "metadata": {},
   "outputs": [
    {
     "data": {
      "text/plain": [
       "DatetimeIndex(['2018-01-01', '2018-01-02', '2018-01-03', '2018-01-04',\n",
       "               '2018-01-05', '2018-01-06', '2018-01-07'],\n",
       "              dtype='datetime64[ns]', freq='D')"
      ]
     },
     "execution_count": 18,
     "metadata": {},
     "output_type": "execute_result"
    }
   ],
   "source": [
    "# displaying the index, columns, and underlying NumPy data\n",
    "df.index"
   ]
  },
  {
   "cell_type": "code",
   "execution_count": 19,
   "metadata": {},
   "outputs": [
    {
     "data": {
      "text/plain": [
       "Index(['A', 'B', 'C', 'D', 'E'], dtype='object')"
      ]
     },
     "execution_count": 19,
     "metadata": {},
     "output_type": "execute_result"
    }
   ],
   "source": [
    "df.columns"
   ]
  },
  {
   "cell_type": "code",
   "execution_count": 20,
   "metadata": {},
   "outputs": [
    {
     "data": {
      "text/plain": [
       "array([[ 0.1479163 , -0.03749284,  0.06050551, -0.38119195, -1.88836615],\n",
       "       [-0.13496508,  0.02942439, -0.95468821,  0.0827655 ,  0.69382753],\n",
       "       [-1.39414635, -0.59600413,  1.96295726, -0.14923061, -0.04693848],\n",
       "       [ 0.81547785,  0.17892775,  0.01874695,  0.7674545 , -1.07674005],\n",
       "       [-0.39897775,  1.46372571, -0.99517481,  0.16534961, -2.17917698],\n",
       "       [-1.18860772,  0.40101304,  0.08618361,  1.06061689, -1.70087527],\n",
       "       [-2.27852672, -0.41317181,  0.80369759,  1.84750646, -0.62709396]])"
      ]
     },
     "execution_count": 20,
     "metadata": {},
     "output_type": "execute_result"
    }
   ],
   "source": [
    "df.values"
   ]
  },
  {
   "cell_type": "code",
   "execution_count": 21,
   "metadata": {},
   "outputs": [
    {
     "data": {
      "text/html": [
       "<div>\n",
       "<style scoped>\n",
       "    .dataframe tbody tr th:only-of-type {\n",
       "        vertical-align: middle;\n",
       "    }\n",
       "\n",
       "    .dataframe tbody tr th {\n",
       "        vertical-align: top;\n",
       "    }\n",
       "\n",
       "    .dataframe thead th {\n",
       "        text-align: right;\n",
       "    }\n",
       "</style>\n",
       "<table border=\"1\" class=\"dataframe\">\n",
       "  <thead>\n",
       "    <tr style=\"text-align: right;\">\n",
       "      <th></th>\n",
       "      <th>A</th>\n",
       "      <th>B</th>\n",
       "      <th>C</th>\n",
       "      <th>D</th>\n",
       "      <th>E</th>\n",
       "    </tr>\n",
       "  </thead>\n",
       "  <tbody>\n",
       "    <tr>\n",
       "      <th>count</th>\n",
       "      <td>7.000000</td>\n",
       "      <td>7.000000</td>\n",
       "      <td>7.000000</td>\n",
       "      <td>7.000000</td>\n",
       "      <td>7.000000</td>\n",
       "    </tr>\n",
       "    <tr>\n",
       "      <th>mean</th>\n",
       "      <td>-0.633118</td>\n",
       "      <td>0.146632</td>\n",
       "      <td>0.140318</td>\n",
       "      <td>0.484753</td>\n",
       "      <td>-0.975052</td>\n",
       "    </tr>\n",
       "    <tr>\n",
       "      <th>std</th>\n",
       "      <td>1.049327</td>\n",
       "      <td>0.672435</td>\n",
       "      <td>1.022623</td>\n",
       "      <td>0.783586</td>\n",
       "      <td>1.047922</td>\n",
       "    </tr>\n",
       "    <tr>\n",
       "      <th>min</th>\n",
       "      <td>-2.278527</td>\n",
       "      <td>-0.596004</td>\n",
       "      <td>-0.995175</td>\n",
       "      <td>-0.381192</td>\n",
       "      <td>-2.179177</td>\n",
       "    </tr>\n",
       "    <tr>\n",
       "      <th>25%</th>\n",
       "      <td>-1.291377</td>\n",
       "      <td>-0.225332</td>\n",
       "      <td>-0.467971</td>\n",
       "      <td>-0.033233</td>\n",
       "      <td>-1.794621</td>\n",
       "    </tr>\n",
       "    <tr>\n",
       "      <th>50%</th>\n",
       "      <td>-0.398978</td>\n",
       "      <td>0.029424</td>\n",
       "      <td>0.060506</td>\n",
       "      <td>0.165350</td>\n",
       "      <td>-1.076740</td>\n",
       "    </tr>\n",
       "    <tr>\n",
       "      <th>75%</th>\n",
       "      <td>0.006476</td>\n",
       "      <td>0.289970</td>\n",
       "      <td>0.444941</td>\n",
       "      <td>0.914036</td>\n",
       "      <td>-0.337016</td>\n",
       "    </tr>\n",
       "    <tr>\n",
       "      <th>max</th>\n",
       "      <td>0.815478</td>\n",
       "      <td>1.463726</td>\n",
       "      <td>1.962957</td>\n",
       "      <td>1.847506</td>\n",
       "      <td>0.693828</td>\n",
       "    </tr>\n",
       "  </tbody>\n",
       "</table>\n",
       "</div>"
      ],
      "text/plain": [
       "              A         B         C         D         E\n",
       "count  7.000000  7.000000  7.000000  7.000000  7.000000\n",
       "mean  -0.633118  0.146632  0.140318  0.484753 -0.975052\n",
       "std    1.049327  0.672435  1.022623  0.783586  1.047922\n",
       "min   -2.278527 -0.596004 -0.995175 -0.381192 -2.179177\n",
       "25%   -1.291377 -0.225332 -0.467971 -0.033233 -1.794621\n",
       "50%   -0.398978  0.029424  0.060506  0.165350 -1.076740\n",
       "75%    0.006476  0.289970  0.444941  0.914036 -0.337016\n",
       "max    0.815478  1.463726  1.962957  1.847506  0.693828"
      ]
     },
     "execution_count": 21,
     "metadata": {},
     "output_type": "execute_result"
    }
   ],
   "source": [
    "# quick statistics summary of the data\n",
    "df.describe()"
   ]
  },
  {
   "cell_type": "code",
   "execution_count": 22,
   "metadata": {},
   "outputs": [
    {
     "data": {
      "text/html": [
       "<div>\n",
       "<style scoped>\n",
       "    .dataframe tbody tr th:only-of-type {\n",
       "        vertical-align: middle;\n",
       "    }\n",
       "\n",
       "    .dataframe tbody tr th {\n",
       "        vertical-align: top;\n",
       "    }\n",
       "\n",
       "    .dataframe thead th {\n",
       "        text-align: right;\n",
       "    }\n",
       "</style>\n",
       "<table border=\"1\" class=\"dataframe\">\n",
       "  <thead>\n",
       "    <tr style=\"text-align: right;\">\n",
       "      <th></th>\n",
       "      <th>2018-01-01 00:00:00</th>\n",
       "      <th>2018-01-02 00:00:00</th>\n",
       "      <th>2018-01-03 00:00:00</th>\n",
       "      <th>2018-01-04 00:00:00</th>\n",
       "      <th>2018-01-05 00:00:00</th>\n",
       "      <th>2018-01-06 00:00:00</th>\n",
       "      <th>2018-01-07 00:00:00</th>\n",
       "    </tr>\n",
       "  </thead>\n",
       "  <tbody>\n",
       "    <tr>\n",
       "      <th>A</th>\n",
       "      <td>0.147916</td>\n",
       "      <td>-0.134965</td>\n",
       "      <td>-1.394146</td>\n",
       "      <td>0.815478</td>\n",
       "      <td>-0.398978</td>\n",
       "      <td>-1.188608</td>\n",
       "      <td>-2.278527</td>\n",
       "    </tr>\n",
       "    <tr>\n",
       "      <th>B</th>\n",
       "      <td>-0.037493</td>\n",
       "      <td>0.029424</td>\n",
       "      <td>-0.596004</td>\n",
       "      <td>0.178928</td>\n",
       "      <td>1.463726</td>\n",
       "      <td>0.401013</td>\n",
       "      <td>-0.413172</td>\n",
       "    </tr>\n",
       "    <tr>\n",
       "      <th>C</th>\n",
       "      <td>0.060506</td>\n",
       "      <td>-0.954688</td>\n",
       "      <td>1.962957</td>\n",
       "      <td>0.018747</td>\n",
       "      <td>-0.995175</td>\n",
       "      <td>0.086184</td>\n",
       "      <td>0.803698</td>\n",
       "    </tr>\n",
       "    <tr>\n",
       "      <th>D</th>\n",
       "      <td>-0.381192</td>\n",
       "      <td>0.082766</td>\n",
       "      <td>-0.149231</td>\n",
       "      <td>0.767455</td>\n",
       "      <td>0.165350</td>\n",
       "      <td>1.060617</td>\n",
       "      <td>1.847506</td>\n",
       "    </tr>\n",
       "    <tr>\n",
       "      <th>E</th>\n",
       "      <td>-1.888366</td>\n",
       "      <td>0.693828</td>\n",
       "      <td>-0.046938</td>\n",
       "      <td>-1.076740</td>\n",
       "      <td>-2.179177</td>\n",
       "      <td>-1.700875</td>\n",
       "      <td>-0.627094</td>\n",
       "    </tr>\n",
       "  </tbody>\n",
       "</table>\n",
       "</div>"
      ],
      "text/plain": [
       "   2018-01-01  2018-01-02  2018-01-03  2018-01-04  2018-01-05  2018-01-06  \\\n",
       "A    0.147916   -0.134965   -1.394146    0.815478   -0.398978   -1.188608   \n",
       "B   -0.037493    0.029424   -0.596004    0.178928    1.463726    0.401013   \n",
       "C    0.060506   -0.954688    1.962957    0.018747   -0.995175    0.086184   \n",
       "D   -0.381192    0.082766   -0.149231    0.767455    0.165350    1.060617   \n",
       "E   -1.888366    0.693828   -0.046938   -1.076740   -2.179177   -1.700875   \n",
       "\n",
       "   2018-01-07  \n",
       "A   -2.278527  \n",
       "B   -0.413172  \n",
       "C    0.803698  \n",
       "D    1.847506  \n",
       "E   -0.627094  "
      ]
     },
     "execution_count": 22,
     "metadata": {},
     "output_type": "execute_result"
    }
   ],
   "source": [
    "# the transpose of the data\n",
    "df.T"
   ]
  },
  {
   "cell_type": "code",
   "execution_count": 23,
   "metadata": {},
   "outputs": [
    {
     "data": {
      "text/html": [
       "<div>\n",
       "<style scoped>\n",
       "    .dataframe tbody tr th:only-of-type {\n",
       "        vertical-align: middle;\n",
       "    }\n",
       "\n",
       "    .dataframe tbody tr th {\n",
       "        vertical-align: top;\n",
       "    }\n",
       "\n",
       "    .dataframe thead th {\n",
       "        text-align: right;\n",
       "    }\n",
       "</style>\n",
       "<table border=\"1\" class=\"dataframe\">\n",
       "  <thead>\n",
       "    <tr style=\"text-align: right;\">\n",
       "      <th></th>\n",
       "      <th>E</th>\n",
       "      <th>D</th>\n",
       "      <th>C</th>\n",
       "      <th>B</th>\n",
       "      <th>A</th>\n",
       "    </tr>\n",
       "  </thead>\n",
       "  <tbody>\n",
       "    <tr>\n",
       "      <th>2018-01-01</th>\n",
       "      <td>-1.888366</td>\n",
       "      <td>-0.381192</td>\n",
       "      <td>0.060506</td>\n",
       "      <td>-0.037493</td>\n",
       "      <td>0.147916</td>\n",
       "    </tr>\n",
       "    <tr>\n",
       "      <th>2018-01-02</th>\n",
       "      <td>0.693828</td>\n",
       "      <td>0.082766</td>\n",
       "      <td>-0.954688</td>\n",
       "      <td>0.029424</td>\n",
       "      <td>-0.134965</td>\n",
       "    </tr>\n",
       "    <tr>\n",
       "      <th>2018-01-03</th>\n",
       "      <td>-0.046938</td>\n",
       "      <td>-0.149231</td>\n",
       "      <td>1.962957</td>\n",
       "      <td>-0.596004</td>\n",
       "      <td>-1.394146</td>\n",
       "    </tr>\n",
       "    <tr>\n",
       "      <th>2018-01-04</th>\n",
       "      <td>-1.076740</td>\n",
       "      <td>0.767455</td>\n",
       "      <td>0.018747</td>\n",
       "      <td>0.178928</td>\n",
       "      <td>0.815478</td>\n",
       "    </tr>\n",
       "    <tr>\n",
       "      <th>2018-01-05</th>\n",
       "      <td>-2.179177</td>\n",
       "      <td>0.165350</td>\n",
       "      <td>-0.995175</td>\n",
       "      <td>1.463726</td>\n",
       "      <td>-0.398978</td>\n",
       "    </tr>\n",
       "    <tr>\n",
       "      <th>2018-01-06</th>\n",
       "      <td>-1.700875</td>\n",
       "      <td>1.060617</td>\n",
       "      <td>0.086184</td>\n",
       "      <td>0.401013</td>\n",
       "      <td>-1.188608</td>\n",
       "    </tr>\n",
       "    <tr>\n",
       "      <th>2018-01-07</th>\n",
       "      <td>-0.627094</td>\n",
       "      <td>1.847506</td>\n",
       "      <td>0.803698</td>\n",
       "      <td>-0.413172</td>\n",
       "      <td>-2.278527</td>\n",
       "    </tr>\n",
       "  </tbody>\n",
       "</table>\n",
       "</div>"
      ],
      "text/plain": [
       "                   E         D         C         B         A\n",
       "2018-01-01 -1.888366 -0.381192  0.060506 -0.037493  0.147916\n",
       "2018-01-02  0.693828  0.082766 -0.954688  0.029424 -0.134965\n",
       "2018-01-03 -0.046938 -0.149231  1.962957 -0.596004 -1.394146\n",
       "2018-01-04 -1.076740  0.767455  0.018747  0.178928  0.815478\n",
       "2018-01-05 -2.179177  0.165350 -0.995175  1.463726 -0.398978\n",
       "2018-01-06 -1.700875  1.060617  0.086184  0.401013 -1.188608\n",
       "2018-01-07 -0.627094  1.847506  0.803698 -0.413172 -2.278527"
      ]
     },
     "execution_count": 23,
     "metadata": {},
     "output_type": "execute_result"
    }
   ],
   "source": [
    "# sorting by axis\n",
    "df.sort_index(axis=1, ascending=False)"
   ]
  },
  {
   "cell_type": "code",
   "execution_count": 24,
   "metadata": {},
   "outputs": [
    {
     "data": {
      "text/html": [
       "<div>\n",
       "<style scoped>\n",
       "    .dataframe tbody tr th:only-of-type {\n",
       "        vertical-align: middle;\n",
       "    }\n",
       "\n",
       "    .dataframe tbody tr th {\n",
       "        vertical-align: top;\n",
       "    }\n",
       "\n",
       "    .dataframe thead th {\n",
       "        text-align: right;\n",
       "    }\n",
       "</style>\n",
       "<table border=\"1\" class=\"dataframe\">\n",
       "  <thead>\n",
       "    <tr style=\"text-align: right;\">\n",
       "      <th></th>\n",
       "      <th>A</th>\n",
       "      <th>B</th>\n",
       "      <th>C</th>\n",
       "      <th>D</th>\n",
       "      <th>E</th>\n",
       "    </tr>\n",
       "  </thead>\n",
       "  <tbody>\n",
       "    <tr>\n",
       "      <th>2018-01-07</th>\n",
       "      <td>-2.278527</td>\n",
       "      <td>-0.413172</td>\n",
       "      <td>0.803698</td>\n",
       "      <td>1.847506</td>\n",
       "      <td>-0.627094</td>\n",
       "    </tr>\n",
       "    <tr>\n",
       "      <th>2018-01-03</th>\n",
       "      <td>-1.394146</td>\n",
       "      <td>-0.596004</td>\n",
       "      <td>1.962957</td>\n",
       "      <td>-0.149231</td>\n",
       "      <td>-0.046938</td>\n",
       "    </tr>\n",
       "    <tr>\n",
       "      <th>2018-01-06</th>\n",
       "      <td>-1.188608</td>\n",
       "      <td>0.401013</td>\n",
       "      <td>0.086184</td>\n",
       "      <td>1.060617</td>\n",
       "      <td>-1.700875</td>\n",
       "    </tr>\n",
       "    <tr>\n",
       "      <th>2018-01-05</th>\n",
       "      <td>-0.398978</td>\n",
       "      <td>1.463726</td>\n",
       "      <td>-0.995175</td>\n",
       "      <td>0.165350</td>\n",
       "      <td>-2.179177</td>\n",
       "    </tr>\n",
       "    <tr>\n",
       "      <th>2018-01-02</th>\n",
       "      <td>-0.134965</td>\n",
       "      <td>0.029424</td>\n",
       "      <td>-0.954688</td>\n",
       "      <td>0.082766</td>\n",
       "      <td>0.693828</td>\n",
       "    </tr>\n",
       "    <tr>\n",
       "      <th>2018-01-01</th>\n",
       "      <td>0.147916</td>\n",
       "      <td>-0.037493</td>\n",
       "      <td>0.060506</td>\n",
       "      <td>-0.381192</td>\n",
       "      <td>-1.888366</td>\n",
       "    </tr>\n",
       "    <tr>\n",
       "      <th>2018-01-04</th>\n",
       "      <td>0.815478</td>\n",
       "      <td>0.178928</td>\n",
       "      <td>0.018747</td>\n",
       "      <td>0.767455</td>\n",
       "      <td>-1.076740</td>\n",
       "    </tr>\n",
       "  </tbody>\n",
       "</table>\n",
       "</div>"
      ],
      "text/plain": [
       "                   A         B         C         D         E\n",
       "2018-01-07 -2.278527 -0.413172  0.803698  1.847506 -0.627094\n",
       "2018-01-03 -1.394146 -0.596004  1.962957 -0.149231 -0.046938\n",
       "2018-01-06 -1.188608  0.401013  0.086184  1.060617 -1.700875\n",
       "2018-01-05 -0.398978  1.463726 -0.995175  0.165350 -2.179177\n",
       "2018-01-02 -0.134965  0.029424 -0.954688  0.082766  0.693828\n",
       "2018-01-01  0.147916 -0.037493  0.060506 -0.381192 -1.888366\n",
       "2018-01-04  0.815478  0.178928  0.018747  0.767455 -1.076740"
      ]
     },
     "execution_count": 24,
     "metadata": {},
     "output_type": "execute_result"
    }
   ],
   "source": [
    "# sorting by values\n",
    "df.sort_values(by='A')"
   ]
  },
  {
   "cell_type": "markdown",
   "metadata": {},
   "source": [
    "### Selection"
   ]
  },
  {
   "cell_type": "markdown",
   "metadata": {},
   "source": [
    "###### Getting"
   ]
  },
  {
   "cell_type": "code",
   "execution_count": null,
   "metadata": {},
   "outputs": [],
   "source": []
  }
 ],
 "metadata": {
  "kernelspec": {
   "display_name": "Python 3",
   "language": "python",
   "name": "python3"
  },
  "language_info": {
   "codemirror_mode": {
    "name": "ipython",
    "version": 3
   },
   "file_extension": ".py",
   "mimetype": "text/x-python",
   "name": "python",
   "nbconvert_exporter": "python",
   "pygments_lexer": "ipython3",
   "version": "3.6.2"
  }
 },
 "nbformat": 4,
 "nbformat_minor": 2
}
